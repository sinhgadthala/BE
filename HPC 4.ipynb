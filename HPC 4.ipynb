{
 "cells": [
  {
   "cell_type": "code",
   "execution_count": null,
   "id": "fb2a7831-6da9-40a6-8719-698abf18acf1",
   "metadata": {},
   "outputs": [],
   "source": [
    "#Name: Abhishek Nage\n",
    "#BE A COBA02 \n",
    "#HPC ASS 4"
   ]
  },
  {
   "cell_type": "code",
   "execution_count": 2,
   "id": "36186cce-80eb-4170-905a-b7ecb1d16327",
   "metadata": {},
   "outputs": [
    {
     "name": "stdin",
     "output_type": "stream",
     "text": [
      "Enter size of vector/matrix (N):  3\n"
     ]
    },
    {
     "name": "stdout",
     "output_type": "stream",
     "text": [
      "Enter elements for Vector A:\n"
     ]
    },
    {
     "name": "stdin",
     "output_type": "stream",
     "text": [
      "A[0]:  7\n",
      "A[1]:  8\n",
      "A[2]:  6\n"
     ]
    },
    {
     "name": "stdout",
     "output_type": "stream",
     "text": [
      "Enter elements for Vector B:\n"
     ]
    },
    {
     "name": "stdin",
     "output_type": "stream",
     "text": [
      "B[0]:  2\n",
      "B[1]:  0\n",
      "B[2]:  3\n"
     ]
    },
    {
     "name": "stdout",
     "output_type": "stream",
     "text": [
      "\n",
      "Vector A: [7 8 6]\n",
      "Vector B: [2 0 3]\n",
      "Addition (A + B): [9 8 9]\n",
      "\n",
      "Enter elements for Matrix D:\n"
     ]
    },
    {
     "name": "stdin",
     "output_type": "stream",
     "text": [
      "D[0][0]:  1\n",
      "D[0][1]:  2\n",
      "D[0][2]:  3\n",
      "D[1][0]:  4\n",
      "D[1][1]:  5\n",
      "D[1][2]:  6\n",
      "D[2][0]:  7\n",
      "D[2][1]:  8\n",
      "D[2][2]:  9\n"
     ]
    },
    {
     "name": "stdout",
     "output_type": "stream",
     "text": [
      "Enter elements for Matrix E:\n"
     ]
    },
    {
     "name": "stdin",
     "output_type": "stream",
     "text": [
      "E[0][0]:  5\n",
      "E[0][1]:  4\n",
      "E[0][2]:  3\n",
      "E[1][0]:  2\n",
      "E[1][1]:  1\n",
      "E[1][2]:  7\n",
      "E[2][0]:  8\n",
      "E[2][1]:  6\n",
      "E[2][2]:  9\n"
     ]
    },
    {
     "name": "stdout",
     "output_type": "stream",
     "text": [
      "\n",
      "Matrix D:\n",
      "[[1 2 3]\n",
      " [4 5 6]\n",
      " [7 8 9]]\n",
      "\n",
      "Matrix E:\n",
      "[[5 4 3]\n",
      " [2 1 7]\n",
      " [8 6 9]]\n",
      "\n",
      "Multiplication Result (D x E):\n",
      "[[ 33  24  44]\n",
      " [ 78  57 101]\n",
      " [123  90 158]]\n"
     ]
    }
   ],
   "source": [
    "USE_GPU = False\n",
    "\n",
    "if USE_GPU:\n",
    "    import cupy as xp\n",
    "else:\n",
    "    import numpy as xp\n",
    "\n",
    "# User Input\n",
    "N = int(input(\"Enter size of vector/matrix (N): \"))\n",
    "\n",
    "# Input Vectors\n",
    "print(\"Enter elements for Vector A:\")\n",
    "A = xp.array([int(input(f\"A[{i}]: \")) for i in range(N)])\n",
    "print(\"Enter elements for Vector B:\")\n",
    "B = xp.array([int(input(f\"B[{i}]: \")) for i in range(N)])\n",
    "\n",
    "# Vector Addition\n",
    "C = A + B\n",
    "\n",
    "print(\"\\nVector A:\", A)\n",
    "print(\"Vector B:\", B)\n",
    "print(\"Addition (A + B):\", C)\n",
    "\n",
    "# Input Matrices\n",
    "print(\"\\nEnter elements for Matrix D:\")\n",
    "D = xp.zeros((N, N), dtype=int)\n",
    "for i in range(N):\n",
    "    for j in range(N):\n",
    "        D[i, j] = int(input(f\"D[{i}][{j}]: \"))\n",
    "\n",
    "print(\"Enter elements for Matrix E:\")\n",
    "E = xp.zeros((N, N), dtype=int)\n",
    "for i in range(N):\n",
    "    for j in range(N):\n",
    "        E[i, j] = int(input(f\"E[{i}][{j}]: \"))\n",
    "\n",
    "# Matrix Multiplication\n",
    "F = D @ E\n",
    "\n",
    "print(\"\\nMatrix D:\")\n",
    "print(D)\n",
    "\n",
    "print(\"\\nMatrix E:\")\n",
    "print(E)\n",
    "\n",
    "print(\"\\nMultiplication Result (D x E):\")\n",
    "print(F)"
   ]
  },
  {
   "cell_type": "code",
   "execution_count": 1,
   "id": "9eea6f78-28f7-44a8-abe4-af3a75b2d3c5",
   "metadata": {
    "scrolled": true
   },
   "outputs": [
    {
     "name": "stdout",
     "output_type": "stream",
     "text": [
      "Collecting cupy-cuda11x\n",
      "  Downloading cupy_cuda11x-13.4.1-cp310-cp310-win_amd64.whl.metadata (2.7 kB)\n",
      "Requirement already satisfied: numpy<2.3,>=1.22 in c:\\users\\abhis\\appdata\\local\\programs\\python\\python310\\lib\\site-packages (from cupy-cuda11x) (1.23.5)\n",
      "Collecting fastrlock>=0.5 (from cupy-cuda11x)\n",
      "  Downloading fastrlock-0.8.3-cp310-cp310-win_amd64.whl.metadata (7.9 kB)\n",
      "Downloading cupy_cuda11x-13.4.1-cp310-cp310-win_amd64.whl (77.0 MB)\n",
      "   ---------------------------------------- 0.0/77.0 MB ? eta -:--:--\n",
      "   - -------------------------------------- 3.7/77.0 MB 21.8 MB/s eta 0:00:04\n",
      "   - -------------------------------------- 3.7/77.0 MB 21.8 MB/s eta 0:00:04\n",
      "   -- ------------------------------------- 5.8/77.0 MB 9.3 MB/s eta 0:00:08\n",
      "   --- ------------------------------------ 6.3/77.0 MB 7.6 MB/s eta 0:00:10\n",
      "   --- ------------------------------------ 6.8/77.0 MB 6.8 MB/s eta 0:00:11\n",
      "   --- ------------------------------------ 7.6/77.0 MB 6.1 MB/s eta 0:00:12\n",
      "   ---- ----------------------------------- 8.9/77.0 MB 6.0 MB/s eta 0:00:12\n",
      "   ----- ---------------------------------- 10.0/77.0 MB 6.0 MB/s eta 0:00:12\n",
      "   ----- ---------------------------------- 11.0/77.0 MB 5.6 MB/s eta 0:00:12\n",
      "   ------ --------------------------------- 12.1/77.0 MB 5.6 MB/s eta 0:00:12\n",
      "   ------- -------------------------------- 13.6/77.0 MB 5.7 MB/s eta 0:00:12\n",
      "   ------- -------------------------------- 14.4/77.0 MB 5.5 MB/s eta 0:00:12\n",
      "   -------- ------------------------------- 15.5/77.0 MB 5.5 MB/s eta 0:00:12\n",
      "   -------- ------------------------------- 16.8/77.0 MB 5.5 MB/s eta 0:00:11\n",
      "   -------- ------------------------------- 17.3/77.0 MB 5.3 MB/s eta 0:00:12\n",
      "   --------- ------------------------------ 18.1/77.0 MB 5.2 MB/s eta 0:00:12\n",
      "   ---------- ----------------------------- 19.4/77.0 MB 5.3 MB/s eta 0:00:11\n",
      "   ---------- ----------------------------- 20.7/77.0 MB 5.3 MB/s eta 0:00:11\n",
      "   ----------- ---------------------------- 21.5/77.0 MB 5.2 MB/s eta 0:00:11\n",
      "   ----------- ---------------------------- 22.8/77.0 MB 5.3 MB/s eta 0:00:11\n",
      "   ------------ --------------------------- 23.9/77.0 MB 5.2 MB/s eta 0:00:11\n",
      "   ------------ --------------------------- 24.4/77.0 MB 5.1 MB/s eta 0:00:11\n",
      "   ------------- -------------------------- 25.7/77.0 MB 5.2 MB/s eta 0:00:10\n",
      "   -------------- ------------------------- 27.3/77.0 MB 5.2 MB/s eta 0:00:10\n",
      "   -------------- ------------------------- 28.0/77.0 MB 5.2 MB/s eta 0:00:10\n",
      "   -------------- ------------------------- 28.8/77.0 MB 5.2 MB/s eta 0:00:10\n",
      "   --------------- ------------------------ 30.1/77.0 MB 5.2 MB/s eta 0:00:10\n",
      "   ---------------- ----------------------- 31.7/77.0 MB 5.2 MB/s eta 0:00:09\n",
      "   ---------------- ----------------------- 32.5/77.0 MB 5.2 MB/s eta 0:00:09\n",
      "   ----------------- ---------------------- 33.0/77.0 MB 5.2 MB/s eta 0:00:09\n",
      "   ----------------- ---------------------- 33.8/77.0 MB 5.0 MB/s eta 0:00:09\n",
      "   ------------------ --------------------- 34.9/77.0 MB 5.0 MB/s eta 0:00:09\n",
      "   ------------------ --------------------- 36.4/77.0 MB 5.1 MB/s eta 0:00:08\n",
      "   ------------------- -------------------- 37.5/77.0 MB 5.1 MB/s eta 0:00:08\n",
      "   -------------------- ------------------- 38.5/77.0 MB 5.1 MB/s eta 0:00:08\n",
      "   -------------------- ------------------- 39.3/77.0 MB 5.1 MB/s eta 0:00:08\n",
      "   -------------------- ------------------- 40.4/77.0 MB 5.0 MB/s eta 0:00:08\n",
      "   --------------------- ------------------ 41.7/77.0 MB 5.1 MB/s eta 0:00:07\n",
      "   ---------------------- ----------------- 43.0/77.0 MB 5.1 MB/s eta 0:00:07\n",
      "   ---------------------- ----------------- 44.0/77.0 MB 5.1 MB/s eta 0:00:07\n",
      "   ----------------------- ---------------- 44.8/77.0 MB 5.1 MB/s eta 0:00:07\n",
      "   ----------------------- ---------------- 45.6/77.0 MB 5.1 MB/s eta 0:00:07\n",
      "   ------------------------ --------------- 46.9/77.0 MB 5.1 MB/s eta 0:00:06\n",
      "   ------------------------- -------------- 48.2/77.0 MB 5.1 MB/s eta 0:00:06\n",
      "   ------------------------- -------------- 49.3/77.0 MB 5.1 MB/s eta 0:00:06\n",
      "   -------------------------- ------------- 50.3/77.0 MB 5.1 MB/s eta 0:00:06\n",
      "   -------------------------- ------------- 50.9/77.0 MB 5.0 MB/s eta 0:00:06\n",
      "   -------------------------- ------------- 51.9/77.0 MB 5.0 MB/s eta 0:00:06\n",
      "   --------------------------- ------------ 53.2/77.0 MB 5.0 MB/s eta 0:00:05\n",
      "   ---------------------------- ----------- 54.3/77.0 MB 5.0 MB/s eta 0:00:05\n",
      "   ---------------------------- ----------- 55.3/77.0 MB 5.0 MB/s eta 0:00:05\n",
      "   ----------------------------- ---------- 56.4/77.0 MB 5.0 MB/s eta 0:00:05\n",
      "   ----------------------------- ---------- 57.4/77.0 MB 5.0 MB/s eta 0:00:04\n",
      "   ------------------------------ --------- 58.7/77.0 MB 5.0 MB/s eta 0:00:04\n",
      "   ------------------------------- -------- 60.0/77.0 MB 5.1 MB/s eta 0:00:04\n",
      "   ------------------------------- -------- 60.8/77.0 MB 5.0 MB/s eta 0:00:04\n",
      "   ------------------------------- -------- 61.3/77.0 MB 5.0 MB/s eta 0:00:04\n",
      "   -------------------------------- ------- 62.4/77.0 MB 5.0 MB/s eta 0:00:03\n",
      "   --------------------------------- ------ 64.0/77.0 MB 5.0 MB/s eta 0:00:03\n",
      "   --------------------------------- ------ 65.0/77.0 MB 5.0 MB/s eta 0:00:03\n",
      "   ---------------------------------- ----- 66.1/77.0 MB 5.0 MB/s eta 0:00:03\n",
      "   ---------------------------------- ----- 67.4/77.0 MB 5.0 MB/s eta 0:00:02\n",
      "   ----------------------------------- ---- 68.2/77.0 MB 5.0 MB/s eta 0:00:02\n",
      "   ----------------------------------- ---- 68.9/77.0 MB 5.0 MB/s eta 0:00:02\n",
      "   ------------------------------------ --- 70.5/77.0 MB 5.0 MB/s eta 0:00:02\n",
      "   ------------------------------------- -- 71.3/77.0 MB 5.0 MB/s eta 0:00:02\n",
      "   ------------------------------------- -- 72.4/77.0 MB 5.0 MB/s eta 0:00:01\n",
      "   ------------------------------------- -- 73.1/77.0 MB 5.0 MB/s eta 0:00:01\n",
      "   -------------------------------------- - 74.4/77.0 MB 5.0 MB/s eta 0:00:01\n",
      "   ---------------------------------------  75.5/77.0 MB 5.0 MB/s eta 0:00:01\n",
      "   ---------------------------------------  76.3/77.0 MB 5.0 MB/s eta 0:00:01\n",
      "   ---------------------------------------  76.8/77.0 MB 5.0 MB/s eta 0:00:01\n",
      "   ---------------------------------------- 77.0/77.0 MB 4.9 MB/s eta 0:00:00\n",
      "Downloading fastrlock-0.8.3-cp310-cp310-win_amd64.whl (30 kB)\n",
      "Installing collected packages: fastrlock, cupy-cuda11x\n",
      "Successfully installed cupy-cuda11x-13.4.1 fastrlock-0.8.3\n"
     ]
    }
   ],
   "source": [
    "!pip install cupy-cuda11x"
   ]
  },
  {
   "cell_type": "code",
   "execution_count": null,
   "id": "3e4b4c8c-c29b-4fcb-b83e-c95e36a66881",
   "metadata": {},
   "outputs": [],
   "source": []
  }
 ],
 "metadata": {
  "kernelspec": {
   "display_name": "Python 3 (ipykernel)",
   "language": "python",
   "name": "python3"
  },
  "language_info": {
   "codemirror_mode": {
    "name": "ipython",
    "version": 3
   },
   "file_extension": ".py",
   "mimetype": "text/x-python",
   "name": "python",
   "nbconvert_exporter": "python",
   "pygments_lexer": "ipython3",
   "version": "3.10.0"
  }
 },
 "nbformat": 4,
 "nbformat_minor": 5
}
