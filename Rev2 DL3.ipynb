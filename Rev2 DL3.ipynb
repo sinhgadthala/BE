{
 "cells": [
  {
   "cell_type": "code",
   "execution_count": null,
   "id": "c93d493a-df40-498e-9532-1b18e833360d",
   "metadata": {},
   "outputs": [],
   "source": [
    "C:\\Users\\abhis\\.templateengine\\Downloads\\archive (8).zip\\New Plant Diseases Dataset(Augmented)\\New Plant Diseases Dataset(Augmented)"
   ]
  },
  {
   "cell_type": "code",
   "execution_count": 1,
   "id": "abc60601-3c58-4f6a-a434-a0d4060302b6",
   "metadata": {},
   "outputs": [],
   "source": [
    "import numpy as np\n",
    "import pandas as pd \n",
    "import matplotlib.pyplot as plt\n",
    "import tensorflow as tf\n",
    "from tensorflow.keras import layers"
   ]
  },
  {
   "cell_type": "code",
   "execution_count": 2,
   "id": "ddd67764-03c2-45ca-a999-68abf076d8b0",
   "metadata": {},
   "outputs": [],
   "source": [
    "batch_size = 100\n",
    "img_height = 250\n",
    "img_width = 250"
   ]
  },
  {
   "cell_type": "code",
   "execution_count": 3,
   "id": "100f2fd4-e69f-4d4e-ba38-d1c6db342e62",
   "metadata": {},
   "outputs": [
    {
     "name": "stdout",
     "output_type": "stream",
     "text": [
      "Found 70295 files belonging to 38 classes.\n"
     ]
    }
   ],
   "source": [
    "training_ds = tf.keras.preprocessing.image_dataset_from_directory(\n",
    "    'C:\\\\Users\\\\abhis\\\\Desktop\\\\Practicals\\\\Deeplearning\\\\New Plant Diseases Dataset(Augmented)\\\\train',\n",
    "    seed=42,\n",
    "    image_size= (img_height, img_width),\n",
    "    batch_size=batch_size)"
   ]
  },
  {
   "cell_type": "code",
   "execution_count": 4,
   "id": "bb0aac30-4e0b-4572-9bd3-4e82a11abc31",
   "metadata": {},
   "outputs": [
    {
     "name": "stdout",
     "output_type": "stream",
     "text": [
      "Found 17572 files belonging to 38 classes.\n"
     ]
    }
   ],
   "source": [
    "validation_ds =  tf.keras.preprocessing.image_dataset_from_directory(\n",
    "    'C:\\\\Users\\\\abhis\\\\Desktop\\\\Practicals\\\\Deeplearning\\\\New Plant Diseases Dataset(Augmented)\\\\valid',\n",
    "    seed=42,\n",
    "    image_size= (img_height, img_width),\n",
    "    batch_size=batch_size)"
   ]
  },
  {
   "cell_type": "code",
   "execution_count": 5,
   "id": "af1e5169-2a40-4415-a13a-0e12a834412d",
   "metadata": {},
   "outputs": [],
   "source": [
    "class_names = training_ds.class_names"
   ]
  },
  {
   "cell_type": "code",
   "execution_count": 6,
   "id": "37e073ae-e158-4eed-8828-2257eaf8f19f",
   "metadata": {},
   "outputs": [],
   "source": [
    "MyCnn = tf.keras.models.Sequential([\n",
    "  layers.BatchNormalization(),\n",
    "  layers.Conv2D(32, 3, activation='relu'),\n",
    "  layers.MaxPooling2D(),\n",
    "  layers.Conv2D(64, 3, activation='relu'),\n",
    "  layers.MaxPooling2D(),\n",
    "  layers.Conv2D(128, 3, activation='relu'),\n",
    "  layers.MaxPooling2D(),\n",
    "  layers.Flatten(),\n",
    "  layers.Dense(256, activation='relu'),\n",
    "  layers.Dense(len(class_names), activation= 'softmax')\n",
    "])"
   ]
  },
  {
   "cell_type": "code",
   "execution_count": 7,
   "id": "4c4f64b6-1af3-4357-9bee-ebe6c7e1b903",
   "metadata": {},
   "outputs": [],
   "source": [
    "MyCnn.compile(optimizer='adam',loss='sparse_categorical_crossentropy', metrics=['accuracy'])"
   ]
  },
  {
   "cell_type": "code",
   "execution_count": null,
   "id": "b3b6ff61-52b8-44eb-8b3a-287fb37a4c5f",
   "metadata": {},
   "outputs": [
    {
     "name": "stdout",
     "output_type": "stream",
     "text": [
      "Epoch 1/2\n",
      "  6/703 [..............................] - ETA: 2:21:52 - loss: 3.1561 - accuracy: 0.1933"
     ]
    }
   ],
   "source": [
    "retVal = MyCnn.fit(training_ds,validation_data= validation_ds,epochs = 2)"
   ]
  },
  {
   "cell_type": "code",
   "execution_count": null,
   "id": "3ce0794c-fa7b-4fd3-a20b-9b976cabc1bf",
   "metadata": {},
   "outputs": [],
   "source": [
    "plt.plot(retVal.history['loss'], label = 'training loss')\n",
    "plt.plot(retVal.history['accuracy'], label = 'training accuracy')\n",
    "plt.legend()"
   ]
  },
  {
   "cell_type": "code",
   "execution_count": null,
   "id": "656dbc87-0bd1-40c3-b391-7599cf533858",
   "metadata": {},
   "outputs": [],
   "source": [
    "AccuracyVector = []\n",
    "plt.figure(figsize=(30, 30))\n",
    "for images, labels in validation_ds.take(1):\n",
    "    predictions = MyCnn.predict(images)\n",
    "    predlabel = []\n",
    "    prdlbl = []\n",
    "    \n",
    "    for mem in predictions:\n",
    "        predlabel.append(class_names[np.argmax(mem)])\n",
    "        prdlbl.append(np.argmax(mem))\n",
    "    \n",
    "    AccuracyVector = np.array(prdlbl) == labels\n",
    "    for i in range(40):\n",
    "        ax = plt.subplot(10, 4, i + 1)\n",
    "        plt.imshow(images[i].numpy().astype(\"uint8\"))\n",
    "        plt.title('Pred: '+ predlabel[i]+' actl:'+class_names[labels[i]] )\n",
    "        plt.axis('off')\n",
    "        plt.grid(True)"
   ]
  },
  {
   "cell_type": "code",
   "execution_count": null,
   "id": "1e8e5190-a9dd-4f0a-82d7-2586efbc5f8c",
   "metadata": {},
   "outputs": [],
   "source": [
    "plt.plot(retVal.history['val_loss'], label = 'validation loss')\n",
    "plt.plot(retVal.history['val_accuracy'], label = 'validation accuracy')\n",
    "plt.legend()"
   ]
  },
  {
   "cell_type": "code",
   "execution_count": null,
   "id": "ddd4e236-7445-4f26-9416-4393dfd13296",
   "metadata": {},
   "outputs": [],
   "source": []
  }
 ],
 "metadata": {
  "kernelspec": {
   "display_name": "Python 3 (ipykernel)",
   "language": "python",
   "name": "python3"
  },
  "language_info": {
   "codemirror_mode": {
    "name": "ipython",
    "version": 3
   },
   "file_extension": ".py",
   "mimetype": "text/x-python",
   "name": "python",
   "nbconvert_exporter": "python",
   "pygments_lexer": "ipython3",
   "version": "3.10.0"
  }
 },
 "nbformat": 4,
 "nbformat_minor": 5
}
